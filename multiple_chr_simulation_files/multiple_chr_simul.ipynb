{
 "cells": [
  {
   "cell_type": "code",
   "execution_count": 33,
   "id": "1a5c5e68",
   "metadata": {},
   "outputs": [],
   "source": [
    "import os\n",
    "import pandas as pd\n",
    "import numpy as np\n",
    "import io\n",
    "import subprocess"
   ]
  },
  {
   "cell_type": "markdown",
   "id": "773b742f",
   "metadata": {},
   "source": [
    "## 1. Concatenate fasta sequences of selected chromosomes"
   ]
  },
  {
   "cell_type": "markdown",
   "id": "491bfc43",
   "metadata": {},
   "source": [
    "The sequences are expected to be in a one file, if they are not combine them at first using step 0"
   ]
  },
  {
   "cell_type": "markdown",
   "id": "0379cb76",
   "metadata": {},
   "source": [
    "### Step 0"
   ]
  },
  {
   "cell_type": "code",
   "execution_count": 28,
   "id": "e1d44b45",
   "metadata": {},
   "outputs": [],
   "source": [
    "def combine_fasta(output_file, *fasta_files):\n",
    "    with open(output_file, 'w') as out_f:\n",
    "        for idx, f in enumerate(fasta_files) :\n",
    "            with open(f, 'r') as in_file:\n",
    "                out_f.write(in_file.read())\n",
    "                out_f.write('\\n')\n",
    "    "
   ]
  },
  {
   "cell_type": "code",
   "execution_count": 29,
   "id": "3e96b011",
   "metadata": {},
   "outputs": [],
   "source": [
    "combine_fasta('combined_fasta', 'first.fa', 'second.fa')"
   ]
  },
  {
   "cell_type": "markdown",
   "id": "f2b799f4",
   "metadata": {},
   "source": [
    "### Step 1"
   ]
  },
  {
   "cell_type": "code",
   "execution_count": 4,
   "id": "d5eb264e",
   "metadata": {},
   "outputs": [],
   "source": [
    "def concat_fasta(input_file, output_prefix, chromosomes: list):\n",
    "    select_chr = []\n",
    "    cur_chr = None\n",
    "    with open(input_file, 'r') as inp_file:\n",
    "        buf = io.StringIO()\n",
    "        for line in inp_file:\n",
    "            line = line.strip()\n",
    "            if line.startswith('>'):\n",
    "                chr_name = line.lstrip('>').split(' ')[0]\n",
    "                if chr_name in chromosomes:\n",
    "                    cur_chr = chr_name\n",
    "                    select_chr.append(chr_name)\n",
    "                else:\n",
    "                    cur_chr = None\n",
    "            else:\n",
    "                if cur_chr is not None:\n",
    "                    buf.write(line)\n",
    "\n",
    "    combined_seqs = buf.getvalue()\n",
    "    length_genome = len(combined_seqs)\n",
    "    select_chr_str = '_'.join(select_chr)\n",
    "\n",
    "    with open(output_prefix, 'w') as out_pref:\n",
    "        out_pref.write(f\">concatenated_{select_chr_str} LN:{length_genome}\\n{combined_seqs}\")\n",
    "    \n",
    "    output_file = f'{output_prefix}_concatenated_chromosomes.fa'\n",
    "    try:\n",
    "        os.rename(output_prefix, output_file)\n",
    "        \n",
    "    except FileNotFoundError:\n",
    "        print(f'Error: file {out_pref} is not found')"
   ]
  },
  {
   "cell_type": "code",
   "execution_count": 5,
   "id": "6341e6ec",
   "metadata": {},
   "outputs": [],
   "source": [
    "input_file = 'GRCh38_full_analysis_set_plus_decoy_hla.fa'\n",
    "output_file = 'combined_chr1_chr2_test'\n",
    "concat_fasta(input_file, output_file, ('chr1', 'chr2'))"
   ]
  },
  {
   "cell_type": "markdown",
   "id": "8b489d87",
   "metadata": {},
   "source": [
    "## 2. Merge VCF files"
   ]
  },
  {
   "cell_type": "markdown",
   "id": "a360ae7f",
   "metadata": {},
   "source": [
    " 0. Before you merge VCF files you need to find the length of each chromosome in order to shift your SNPs. I'll be using combined file from step 0"
   ]
  },
  {
   "cell_type": "code",
   "execution_count": 30,
   "id": "1e35a09d",
   "metadata": {},
   "outputs": [],
   "source": [
    "#write only chromosomes name without > in input\n",
    "def get_length(input_file, chromosomes: list):\n",
    "    sel_chr = []\n",
    "    chr_lengths = []\n",
    "    with open(input_file, 'r') as inp_file:\n",
    "        cur_chr = None\n",
    "        # first_line = inp_file.readline()\n",
    "        # cur_chr = first_line.strip().lstrip('>').split(' ')[0]\n",
    "        for line in inp_file:\n",
    "            line = line.strip()\n",
    "            if line.startswith('>'):\n",
    "                if cur_chr is not None:\n",
    "                    chr_lengths.append((cur_chr, len(buf1.getvalue())))\n",
    "                chr_name = line.lstrip('>').split(' ')[0]\n",
    "                if  chr_name in chromosomes:\n",
    "                    sel_chr.append(chr_name)\n",
    "                    cur_chr = chr_name\n",
    "                    buf1 = io.StringIO()\n",
    "                else:\n",
    "                    cur_chr = None\n",
    "                    buf1 = None\n",
    "            else:\n",
    "                if cur_chr is not None:\n",
    "                    buf1.write(line)\n",
    "        if cur_chr is not None:\n",
    "            chr_lengths.append((cur_chr, len(buf1.getvalue())))\n",
    "\n",
    "    return chr_lengths"
   ]
  },
  {
   "cell_type": "code",
   "execution_count": 32,
   "id": "435f0948",
   "metadata": {},
   "outputs": [
    {
     "name": "stdout",
     "output_type": "stream",
     "text": [
      "[('chr1', 248956422), ('chr2', 242193529)]\n"
     ]
    }
   ],
   "source": [
    "input_file = 'GRCh38_full_analysis_set_plus_decoy_hla.fa'\n",
    "print(get_length(input_file, ['chr1', 'chr2']))"
   ]
  },
  {
   "cell_type": "markdown",
   "id": "d3e1fd7b",
   "metadata": {},
   "source": [
    "1. Run these functions in the exact order in order get concatenated vcf file in the end"
   ]
  },
  {
   "cell_type": "code",
   "execution_count": null,
   "id": "1586c4e4",
   "metadata": {},
   "outputs": [],
   "source": [
    "def sort_vcf(input_file, output_file):\n",
    "    subprocess.run([f'bcftools sort {input_file} -o {output_file}.vcf'], shell=True) #sort\n",
    "    \n",
    "def bgzip_vcf(input_file):\n",
    "    subprocess.run([f'bgzip {input_file}'], shell=True)\n",
    "\n",
    "def shift_positions_one_chr(input_file, output_file, shift: int): #you can run it for each chr file independently and then merge\n",
    "    subprocess.run([f\"bcftools view {input_file} | awk 'BEGIN{{OFS='\\t'}} /^#/ {{print; next}} {{ $2 = $2 + {shift}; print}}' > \"])\n",
    "\n",
    "def rename_chr(input_file, output_file, change_names): #change_names.txt must include in the first column old names and in the second new names, sep=' '\n",
    "    subprocess.run([f'bcftools annotate --rename-chrs {change_names} {input_file} -Oz -o {output_file}.gz'])\n",
    "\n",
    "def concat_vcf(output_file, *vcf_files):\n",
    "    subprocess.run([f'bcftools concat --naive {vcf_files} -o {output_file}'])"
   ]
  },
  {
   "cell_type": "markdown",
   "id": "71698302",
   "metadata": {},
   "source": [
    "## 3. Change positions in your recombination map"
   ]
  },
  {
   "cell_type": "markdown",
   "id": "40367d96",
   "metadata": {},
   "source": [
    "In this step you need to shift the positions inside your recombination map, add first line '1   0.0' and add recombination point between two chromosomes with recombination rate 0.5 (to point that these parts are independent). Also ensue that your positions are of int type and rates in float type and the positions go in the ascending order. Unfortunately, SLiM uses the same recombination rates for both sexes (or maybe I missed sth), so I will use recombination map for females from this source https://www.nature.com/articles/s41586-024-08450-5"
   ]
  },
  {
   "cell_type": "markdown",
   "id": "a9b7829c",
   "metadata": {},
   "source": [
    "chr1 0\n",
    "chr2 500 #for length of the first chromosome in the 1-based system\n",
    "chr3 600\n",
    "chr4 700"
   ]
  },
  {
   "cell_type": "code",
   "execution_count": null,
   "id": "696b1e78",
   "metadata": {},
   "outputs": [],
   "source": [
    "def shift_recomb(recomb_map, shifts, chromosomes): #for the first chromosome shift is zero  \n",
    "    df = pd.read_csv(recomb_map, skiprows=10, sep='\\t')\n",
    "    cur_shift = 0\n",
    "    inter_chr_break = []\n",
    "    for idx, chr in enumerate(chromosomes):\n",
    "        shift = int(shifts[idx].split(' ')[1])\n",
    "        cur_shift = shift + cur_shift\n",
    "        mask = (df['Chr']== chr)\n",
    "        df.loc[mask, ['pos']] = df.loc[mask, ['pos']] + shift #add length of the first chromosome\n",
    "        if idx > 0:\n",
    "            inter_chr_break.append([[shift, 0.5], [shift + 1, 0.5]])\n",
    "\n",
    "    rec_pos_chr1_chr2_temp = df.loc[:, ['pos', 'cMperMb']]\n",
    "\n",
    "    zero_row = pd.DataFrame([[1, 0.0]], columns=['pos', 'cMperMb'])\n",
    "\n",
    "    inter_chr_break_df = pd.DataFrame(inter_chr_break, columns=['pos', 'cMperMb']) #in 1 based system\n",
    "\n",
    "    rec_pos_chr1_chr2 = pd.concat([zero_row, rec_pos_chr1_chr2_temp, inter_chr_break_df], axis=0)\n",
    "    rec_pos_chr1_chr2['pos'].astype(int)\n",
    "    rec_pos_chr1_chr2['cMperMb'].astype(float)\n",
    "    rec_pos_chr1_chr2 = rec_pos_chr1_chr2.sort_values(by='pos')\n",
    "\n",
    "    rec_pos_chr1_chr2.to_csv(f'{recomb_map}.tsv', sep='\\t', header=None, index=None) #no header and no indexes must be included"
   ]
  },
  {
   "cell_type": "markdown",
   "id": "21c3c8bc",
   "metadata": {},
   "source": [
    "## 4. Run simulation in the same way as for one chromosome"
   ]
  },
  {
   "cell_type": "markdown",
   "id": "b5e834d6",
   "metadata": {},
   "source": [
    "Better do it in bash. You must have your simulated pedigree structure and at least one parent for each descendant except for founders. Example code:"
   ]
  },
  {
   "cell_type": "markdown",
   "id": "3c351498",
   "metadata": {},
   "source": [
    "python py_ped_sim_init/run_ped_sim.py -t sim_genomes_exact -n gen_ped.nx -e founders.txt -v first_family_chr1_chr2_sorted_concatenated_chr2_shifted_renamed_slim_fil.vcf.gz -f combined_chr1_chr2.fa -rm recomb_pos_mat_chr1_chr2.tsv -o first_family_simul_two_chr"
   ]
  },
  {
   "cell_type": "markdown",
   "id": "d212a1c7",
   "metadata": {},
   "source": [
    "## 5. Change chromosomes names for SNP positions in a vcf file with simulated SNPs "
   ]
  },
  {
   "cell_type": "markdown",
   "id": "e5f099f6",
   "metadata": {},
   "source": [
    "[[chr1, 500]\n",
    "[chr2, 600]\n",
    "[chr3, 700]]"
   ]
  },
  {
   "cell_type": "code",
   "execution_count": null,
   "id": "62fddccf",
   "metadata": {},
   "outputs": [],
   "source": [
    "def shift_back(input_file, chr_lengths): #chr_lengths - list\n",
    "    output_file = f\"{input_file}_shifted_back.vcf\"\n",
    "    open(output_file, 'w').close()\n",
    "\n",
    "    prev_point = 0\n",
    "    for chr_line in chr_lengths: #shift positions for each chromosome except the first\n",
    "        chr = chr_line[0]\n",
    "        \n",
    "        end = int(chr_line[1]) + prev_point\n",
    "        subprocess.run(f\"awk -v prev={prev_point} -v end={end} -v chrname={chr}\"\n",
    "                    f\"'BEGIN{{OFS=\\\"\\\\t\\\"}} /^#/ {{print; next}} \"\n",
    "                    f\" ($2 > prev && $2 <= end) {{$1=chr; $2=$2-prev}} 1' \"\n",
    "                    f\"{input_file}' >> {input_file}_shifted_back.vcf\", shell=True)"
   ]
  }
 ],
 "metadata": {
  "kernelspec": {
   "display_name": "base",
   "language": "python",
   "name": "python3"
  },
  "language_info": {
   "codemirror_mode": {
    "name": "ipython",
    "version": 3
   },
   "file_extension": ".py",
   "mimetype": "text/x-python",
   "name": "python",
   "nbconvert_exporter": "python",
   "pygments_lexer": "ipython3",
   "version": "3.13.5"
  }
 },
 "nbformat": 4,
 "nbformat_minor": 5
}
