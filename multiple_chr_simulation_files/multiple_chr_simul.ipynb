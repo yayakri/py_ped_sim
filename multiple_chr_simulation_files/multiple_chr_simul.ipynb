{
 "cells": [
  {
   "cell_type": "code",
   "execution_count": 4,
   "id": "1a5c5e68",
   "metadata": {},
   "outputs": [],
   "source": [
    "import os\n",
    "import pandas as pd\n",
    "import numpy as np\n",
    "import io\n",
    "import subprocess"
   ]
  },
  {
   "cell_type": "markdown",
   "id": "773b742f",
   "metadata": {},
   "source": [
    "## 1. Concatenate fasta sequences of selected chromosomes"
   ]
  },
  {
   "cell_type": "markdown",
   "id": "491bfc43",
   "metadata": {},
   "source": [
    "The sequences are expected to be in a one file, if they are not combine them at first using step 0"
   ]
  },
  {
   "cell_type": "markdown",
   "id": "0379cb76",
   "metadata": {},
   "source": [
    "### Step 0"
   ]
  },
  {
   "cell_type": "code",
   "execution_count": 2,
   "id": "e1d44b45",
   "metadata": {},
   "outputs": [],
   "source": [
    "def combine_fasta(output_file, *fasta_files):\n",
    "    with open(output_file, 'w') as out_f:\n",
    "        for idx, f in enumerate(fasta_files) :\n",
    "            with open(f, 'r') as in_file:\n",
    "                out_f.write(in_file.read())\n",
    "                out_f.write('\\n')\n",
    "    "
   ]
  },
  {
   "cell_type": "code",
   "execution_count": 29,
   "id": "3e96b011",
   "metadata": {},
   "outputs": [],
   "source": [
    "combine_fasta('combined_fasta', 'first.fa', 'second.fa')"
   ]
  },
  {
   "cell_type": "markdown",
   "id": "f2b799f4",
   "metadata": {},
   "source": [
    "### Step 1"
   ]
  },
  {
   "cell_type": "code",
   "execution_count": 3,
   "id": "d5eb264e",
   "metadata": {},
   "outputs": [],
   "source": [
    "def concat_fasta(input_file, output_prefix, chromosomes: list):\n",
    "    select_chr = []\n",
    "    cur_chr = None\n",
    "    with open(input_file, 'r') as inp_file:\n",
    "        buf = io.StringIO()\n",
    "        for line in inp_file:\n",
    "            line = line.strip()\n",
    "            if line.startswith('>'):\n",
    "                chr_name = line.lstrip('>').split(' ')[0]\n",
    "                if chr_name in chromosomes:\n",
    "                    cur_chr = chr_name\n",
    "                    select_chr.append(chr_name)\n",
    "                else:\n",
    "                    cur_chr = None\n",
    "            else:\n",
    "                if cur_chr is not None:\n",
    "                    buf.write(line)\n",
    "\n",
    "    combined_seqs = buf.getvalue()\n",
    "    length_genome = len(combined_seqs)\n",
    "    select_chr_str = '_'.join(select_chr)\n",
    "\n",
    "    with open(output_prefix, 'w') as out_pref:\n",
    "        out_pref.write(f\">concatenated_{select_chr_str} LN:{length_genome}\\n{combined_seqs}\")\n",
    "    \n",
    "    output_file = f'{output_prefix}_concatenated_chromosomes.fa'\n",
    "    try:\n",
    "        os.rename(output_prefix, output_file)\n",
    "        \n",
    "    except FileNotFoundError:\n",
    "        print(f'Error: file {out_pref} is not found')"
   ]
  },
  {
   "cell_type": "code",
   "execution_count": 5,
   "id": "6341e6ec",
   "metadata": {},
   "outputs": [],
   "source": [
    "input_file = '/Users/kristina/Desktop/internship_biotech/GRCh38_full_analysis_set_plus_decoy_hla.fa'\n",
    "output_file = 'combined_chr1_chr2_test'\n",
    "concat_fasta(input_file, output_file, ('chr1', 'chr2'))"
   ]
  },
  {
   "cell_type": "markdown",
   "id": "8b489d87",
   "metadata": {},
   "source": [
    "## 2. Merge VCF files"
   ]
  },
  {
   "cell_type": "markdown",
   "id": "a360ae7f",
   "metadata": {},
   "source": [
    " 0. Before you merge VCF files you need to find the length of each chromosome in order to shift your SNPs. I'll be using combined file from step 0"
   ]
  },
  {
   "cell_type": "code",
   "execution_count": 6,
   "id": "1e35a09d",
   "metadata": {},
   "outputs": [],
   "source": [
    "#write only chromosomes name without > in input\n",
    "def get_length(input_file, chromosomes: list):\n",
    "    sel_chr = []\n",
    "    chr_lengths = []\n",
    "    with open(input_file, 'r') as inp_file:\n",
    "        cur_chr = None\n",
    "        # first_line = inp_file.readline()\n",
    "        # cur_chr = first_line.strip().lstrip('>').split(' ')[0]\n",
    "        for line in inp_file:\n",
    "            line = line.strip()\n",
    "            if line.startswith('>'):\n",
    "                if cur_chr is not None:\n",
    "                    chr_lengths.append((cur_chr, len(buf1.getvalue())))\n",
    "                chr_name = line.lstrip('>').split(' ')[0]\n",
    "                if  chr_name in chromosomes:\n",
    "                    sel_chr.append(chr_name)\n",
    "                    cur_chr = chr_name\n",
    "                    buf1 = io.StringIO()\n",
    "                else:\n",
    "                    cur_chr = None\n",
    "                    buf1 = None\n",
    "            else:\n",
    "                if cur_chr is not None:\n",
    "                    buf1.write(line)\n",
    "        if cur_chr is not None:\n",
    "            chr_lengths.append((cur_chr, len(buf1.getvalue())))\n",
    "\n",
    "    return chr_lengths"
   ]
  },
  {
   "cell_type": "code",
   "execution_count": 8,
   "id": "435f0948",
   "metadata": {},
   "outputs": [
    {
     "name": "stdout",
     "output_type": "stream",
     "text": [
      "[('chr1', 248956422), ('chr2', 242193529)]\n"
     ]
    }
   ],
   "source": [
    "input_file = '/Users/kristina/Desktop/internship_biotech/GRCh38_full_analysis_set_plus_decoy_hla.fa'\n",
    "print(get_length(input_file, ['chr1', 'chr2']))"
   ]
  },
  {
   "cell_type": "markdown",
   "id": "d3e1fd7b",
   "metadata": {},
   "source": [
    "1. Run these functions in the exact order in order get concatenated vcf file in the end"
   ]
  },
  {
   "cell_type": "code",
   "execution_count": 130,
   "id": "1586c4e4",
   "metadata": {},
   "outputs": [],
   "source": [
    "def sort_vcf(input_file, output_file):\n",
    "    subprocess.run([f'bcftools sort {input_file}| bgzip >  {output_file} '], shell=True) #sort plus bgzip\n",
    "\n",
    "def bgzip_vcf(input_file): #should be skipped \n",
    "    subprocess.run([f'bgzip {input_file}'], shell=True)\n",
    "\n",
    "def shift_positions_one_chr(input_file, output_file, shift: int): #you can run it for each chr file independently and then merge\n",
    "    subprocess.run([f\"bcftools view {input_file} | awk 'BEGIN{{OFS=\\\"\\\\t\\\"}} /^#/ {{print; next}} {{ $2 = $2 + {shift}; print}}' >  {output_file}\"], shell=True)\n",
    "\n",
    "def rename_chr(input_file, output_file, change_names): #change_names.txt must include in the first column old names and in the second new names, sep=' '\n",
    "    subprocess.run([f'bcftools annotate --rename-chrs {change_names} {input_file} > {output_file}'], shell=True)\n",
    "\n",
    "def concat_vcf(output_file, vcf_file_1, vcf_file_2):\n",
    "    subprocess.run([f'bcftools concat --naive {vcf_file_1} {vcf_file_2} > {output_file}'], shell=True)"
   ]
  },
  {
   "cell_type": "code",
   "execution_count": 122,
   "id": "bb4c6ddb",
   "metadata": {},
   "outputs": [
    {
     "name": "stderr",
     "output_type": "stream",
     "text": [
      "Writing to /tmp/bcftools-sort.jdAhLs\n",
      "Merging 6 temporary files\n",
      "Cleaning\n",
      "Done\n"
     ]
    }
   ],
   "source": [
    "sort_vcf('/Users/kristina/Desktop/internship_biotech/py_ped_sim/2_chr_first_family.gz', '2_chr_first_family_sorted.gz')"
   ]
  },
  {
   "cell_type": "code",
   "execution_count": 123,
   "id": "42e78f95",
   "metadata": {},
   "outputs": [],
   "source": [
    "shift_positions_one_chr('/Users/kristina/Desktop/internship_biotech/py_ped_sim/multiple_chr_simulation_files/2_chr_first_family_sorted.gz', '/Users/kristina/Desktop/internship_biotech/py_ped_sim/multiple_chr_simulation_files/2_chr_first_family_sorted_shifted.gz', 248956422)"
   ]
  },
  {
   "cell_type": "code",
   "execution_count": 125,
   "id": "55dac264",
   "metadata": {},
   "outputs": [],
   "source": [
    "bgzip_vcf('/Users/kristina/Desktop/internship_biotech/py_ped_sim/multiple_chr_simulation_files/2_chr_first_family_sorted_shifted.gz')"
   ]
  },
  {
   "cell_type": "code",
   "execution_count": 133,
   "id": "32139bcc",
   "metadata": {},
   "outputs": [],
   "source": [
    "rename_chr('/Users/kristina/Desktop/internship_biotech/py_ped_sim/multiple_chr_simulation_files/2_chr_first_family_sorted_shifted.gz.gz', '/Users/kristina/Desktop/internship_biotech/py_ped_sim/multiple_chr_simulation_files/2_chr_first_family_sorted_shifted_renamed', change_names='/Users/kristina/Desktop/internship_biotech/py_ped_sim/multiple_chr_simulation_files/change_chr_names.txt')"
   ]
  },
  {
   "cell_type": "code",
   "execution_count": 134,
   "id": "678379ce",
   "metadata": {},
   "outputs": [],
   "source": [
    "bgzip_vcf('/Users/kristina/Desktop/internship_biotech/py_ped_sim/multiple_chr_simulation_files/2_chr_first_family_sorted_shifted_renamed')"
   ]
  },
  {
   "cell_type": "code",
   "execution_count": 136,
   "id": "417b7ac7",
   "metadata": {},
   "outputs": [],
   "source": [
    "concat_vcf('chr1_chr2_concat_not_renamed.vcf.gz', '/Users/kristina/Desktop/internship_biotech/py_ped_sim/multiple_chr_simulation_files/first_family_biall3_sorted.vcf.gz', '/Users/kristina/Desktop/internship_biotech/py_ped_sim/multiple_chr_simulation_files/2_chr_first_family_sorted_shifted.gz.gz')"
   ]
  },
  {
   "cell_type": "markdown",
   "id": "71698302",
   "metadata": {},
   "source": [
    "## 3. Change positions in your recombination map"
   ]
  },
  {
   "cell_type": "markdown",
   "id": "40367d96",
   "metadata": {},
   "source": [
    "In this step you need to shift the positions inside your recombination map, add first line '1   0.0' and add recombination point between two chromosomes with recombination rate 0.5 (to point that these parts are independent). Also ensue that your positions are of int type and rates in float type and the positions go in the ascending order. Unfortunately, SLiM uses the same recombination rates for both sexes (or maybe I missed sth), so I will use recombination map for females from this source https://www.nature.com/articles/s41586-024-08450-5"
   ]
  },
  {
   "cell_type": "markdown",
   "id": "a9b7829c",
   "metadata": {},
   "source": [
    "chr1 400\n",
    "chr2 500 #for length of the first chromosome in the 1-based system\n",
    "chr3 600\n",
    "chr4 700"
   ]
  },
  {
   "cell_type": "code",
   "execution_count": 119,
   "id": "696b1e78",
   "metadata": {},
   "outputs": [],
   "source": [
    "def shift_recomb(recomb_map, lengths:list, chromosomes:list):  \n",
    "    df = pd.read_csv(recomb_map, skiprows=10, sep='\\t')\n",
    "    df = df[df['Chr'].isin(chromosomes)]\n",
    "    cur_shift = 0\n",
    "    inter_chr_break = []\n",
    "\n",
    "    for idx, chr in enumerate(chromosomes):\n",
    "        shift = int(lengths[idx].split(' ')[1])\n",
    "        mask = (df['Chr']== chr)\n",
    "        df.loc[mask, 'pos'] = df.loc[mask, 'pos'] + cur_shift #add length of the previous chromosome\n",
    "        cur_shift = shift + cur_shift\n",
    "        if idx < len(chromosomes) - 1:\n",
    "            inter_chr_break.append([cur_shift, 0.5]) #between chromosomes\n",
    "            inter_chr_break.append([cur_shift + 1, 0.5])\n",
    "        \n",
    "\n",
    "    rec_pos_multiple_chr_temp = df.loc[:, ['pos', 'cMperMb']]\n",
    "    zero_row = pd.DataFrame([[1, 0.0]], columns=['pos', 'cMperMb'])\n",
    "    inter_chr_break_df = pd.DataFrame(inter_chr_break, columns=['pos', 'cMperMb']) #in 1 based system\n",
    "    rec_pos_multiple_chr = pd.concat([zero_row, rec_pos_multiple_chr_temp, inter_chr_break_df], axis=0)\n",
    "    rec_pos_multiple_chr['pos'] = rec_pos_multiple_chr['pos'].astype(int)\n",
    "    rec_pos_multiple_chr['cMperMb'] = rec_pos_multiple_chr['cMperMb'].astype(float)\n",
    "    rec_pos_multiple_chr = rec_pos_multiple_chr.sort_values(by='pos')\n",
    "    print(rec_pos_multiple_chr.describe())\n",
    "    rec_pos_multiple_chr.to_csv(f'recomb_map_shifted.tsv', sep='\\t', header=None, index=None) #no header and no indexes must be included"
   ]
  },
  {
   "cell_type": "code",
   "execution_count": 60,
   "id": "3608bc29",
   "metadata": {},
   "outputs": [],
   "source": [
    "shifts = ['chr1 248956422', 'chr2 242193529']"
   ]
  },
  {
   "cell_type": "code",
   "execution_count": 120,
   "id": "5d54116d",
   "metadata": {},
   "outputs": [
    {
     "name": "stdout",
     "output_type": "stream",
     "text": [
      "                pos     cMperMb\n",
      "count  4.940000e+02  494.000000\n",
      "mean   2.449957e+08    1.330144\n",
      "std    1.418634e+08    0.787715\n",
      "min    1.000000e+00    0.000000\n",
      "25%    1.227500e+08    0.778082\n",
      "50%    2.460000e+08    1.198018\n",
      "75%    3.672064e+08    1.859779\n",
      "max    4.904564e+08    3.839971\n"
     ]
    }
   ],
   "source": [
    "shift_recomb('/Users/kristina/Desktop/internship_biotech/py_ped_sim/multiple_chr_simulation_files/maps/maps.mat.tsv', shifts, ['chr1', 'chr2'])"
   ]
  },
  {
   "cell_type": "markdown",
   "id": "21c3c8bc",
   "metadata": {},
   "source": [
    "## 4. Run simulation in the same way as for one chromosome"
   ]
  },
  {
   "cell_type": "markdown",
   "id": "b76a9f73",
   "metadata": {},
   "source": [
    "Filter your vcf file to get only biallelic SNPs"
   ]
  },
  {
   "cell_type": "markdown",
   "id": "05dcdd91",
   "metadata": {},
   "source": [
    "python py_ped_sim_init/run_ped_sim.py -t filter_vcf -v vcf_file.vcf.gz"
   ]
  },
  {
   "cell_type": "markdown",
   "id": "b5e834d6",
   "metadata": {},
   "source": [
    "Better do it in bash. You must have your simulated pedigree structure and at least one parent for each descendant except for founders. Example code:"
   ]
  },
  {
   "cell_type": "markdown",
   "id": "3c351498",
   "metadata": {},
   "source": [
    "python py_ped_sim_init/run_ped_sim.py -t sim_genomes_exact -n gen_ped.nx -e founders.txt -v first_family_chr1_chr2_sorted_concatenated_chr2_shifted_renamed_slim_fil.vcf.gz -f combined_chr1_chr2.fa -rm recomb_pos_mat_chr1_chr2.tsv -o first_family_simul_two_chr"
   ]
  },
  {
   "cell_type": "markdown",
   "id": "8195bc29",
   "metadata": {},
   "source": [
    "python run_ped_sim.py -t sim_genomes_exact -n multiple_chr_simulation_files/gen_ped.nx -e multiple_chr_simulation_files/founders.txt -v multiple_chr_simulation_files/chr1_chr2_concat.vcf.gz -f multiple_chr_simulation_files/combined_chr1_chr2_test_concatenated_chromosomes.fa -rm /Users/kristina/Desktop/internship_biotech/py_ped_sim/multiple_chr_simulation_files/recomb_map_shifted.tsv -o first_family_simul_two_chr_test"
   ]
  },
  {
   "cell_type": "markdown",
   "id": "d212a1c7",
   "metadata": {},
   "source": [
    "## 5. Change chromosomes names for SNP positions in a vcf file with simulated SNPs "
   ]
  },
  {
   "cell_type": "markdown",
   "id": "fb0c09a9",
   "metadata": {},
   "source": [
    "Run this command in bash to rename chr:"
   ]
  },
  {
   "cell_type": "markdown",
   "id": "12ca9330",
   "metadata": {},
   "source": [
    "bcftools view '/Users/kristina/Desktop/internship_biotech/py_ped_sim/multiple_chr_simulation_files/first_family_simul_two_chr_genomes.vcf'| awk -v splitpos=248956422 -v oldchr=\"chr1\" -v newchr=\"chr2\" 'BEGIN {OFS=\"\\t\"} /^##contig=/ {\n",
    "    if ($0 ~ \"ID=\"oldchr\",\"){\n",
    "        print $0\n",
    "        sub(\"ID=\"oldchr\",\",\"ID=\"newchr\",\",$0) \n",
    "        print $0 \n",
    "        next\n",
    "    }\n",
    "} \n",
    "!/^#/ {\n",
    "    if ($1 == oldchr && $2 > splitpos) {\n",
    "        $1 = newchr\n",
    "        }\n",
    "        } {print}' > '/Users/kristina/Desktop/internship_biotech/py_ped_sim/multiple_chr_simulation_files/first_family_simul_two_chr_genomes_backshifted.vcf'"
   ]
  },
  {
   "cell_type": "markdown",
   "id": "056f3b1d",
   "metadata": {},
   "source": [
    "After chromosome renaming:"
   ]
  },
  {
   "cell_type": "code",
   "execution_count": 144,
   "id": "05a0a34a",
   "metadata": {},
   "outputs": [],
   "source": [
    "def shift_back_one_chr(input_file, chr_lengths): #chr_lengths - list\n",
    "    chr = chr_lengths[0]\n",
    "    shift = chr_lengths[1]\n",
    "    subprocess.run([f\"awk 'BEGIN{{OFS=\\\"\\\\t\\\"; shift[\\\"{chr}\\\"]={shift}}} !/^#/ {{$2 = $2 - shift[$1]}} {{ print }}' {input_file} > multiple_chr_renamed_shifted_back.vcf\"], shell=True)"
   ]
  },
  {
   "cell_type": "code",
   "execution_count": 146,
   "id": "eeb95a36",
   "metadata": {},
   "outputs": [],
   "source": [
    "shift_back_one_chr('/Users/kristina/Desktop/internship_biotech/py_ped_sim/multiple_chr_simulation_files/first_family_simul_two_chr_genomes_back_renamed.vcf', ['chr2', 248956422])"
   ]
  }
 ],
 "metadata": {
  "kernelspec": {
   "display_name": "intel_env",
   "language": "python",
   "name": "python3"
  },
  "language_info": {
   "codemirror_mode": {
    "name": "ipython",
    "version": 3
   },
   "file_extension": ".py",
   "mimetype": "text/x-python",
   "name": "python",
   "nbconvert_exporter": "python",
   "pygments_lexer": "ipython3",
   "version": "3.8.20"
  }
 },
 "nbformat": 4,
 "nbformat_minor": 5
}
